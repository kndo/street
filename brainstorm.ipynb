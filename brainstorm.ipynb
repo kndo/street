{
 "cells": [
  {
   "cell_type": "code",
   "execution_count": 1,
   "metadata": {},
   "outputs": [],
   "source": [
    "from bs4 import BeautifulSoup\n",
    "import pandas as pd\n",
    "import requests"
   ]
  },
  {
   "cell_type": "code",
   "execution_count": 2,
   "metadata": {},
   "outputs": [],
   "source": [
    "ticker_symbol = 'v'  # Visa\n",
    "url = f'https://www.streetinsider.com/ec_earnings.php?q={ticker_symbol}'\n",
    "#page = requests.get(url, headers=headers).text\n",
    "#soup = BeautifulSoup(page, 'lxml')"
   ]
  },
  {
   "cell_type": "code",
   "execution_count": 3,
   "metadata": {},
   "outputs": [],
   "source": [
    "cookie = 'D_HID=1EBE988A-3691-32A6-936C-6B9CE4F5100A; D_IID=3C3B9C01-4D76-3E33-9B8A-4C135E4AD36D; D_UID=CDD3A95A-772D-30FA-8160-81D19FE02564; D_ZID=B68E42BE-1E2F-3A2C-BE02-1A7EEAD46721; D_ZUID=D350923E-AF5E-374F-90C1-C4C475B8EA36; bounceClientVisit2938=N4IgZgbgLiBcCMBWAbABgOwCYAc7vIBoQIBLAEziTS2wGZFEAWATmWedqIEMB7OVIgBsADnBAALKFGEBnAKS0AgnMwAxFaoDu2gHQyoAJwCmRqCQB2M8kYM6AxjwC2Go3YD6RrgfMWA5jJ1hcWEFVQBHBQARCBBuGX4iCGEY2E4QClh02JADMW1NHV8eHl9BI3snbLtoShQMHHpEIisMwhBfO1zYZGwiRwT08jFMTHR4Wkx4VB6OWmxEeHhMZmzBGoQ6mjxkAF8gA; _ga=GA1.2.351990870.1560728354; _gid=GA1.2.1163975291.1560728354; __browsiSessionID=77f84637-b21b-417f-b7b6-006fb6224421&false&false&DEFAULT&us&desktop-1.16.1&false; __browsiUID=cad7c3d6-acf0-44d5-9a75-7745b98a6213&{\"bt\":\"Browser\",\"os\":\"macOS\",\"osv\":\"10.14.5\",\"m\":\"Macintosh\",\"v\":\"Apple\",\"b\":\"Safari\",\"p\":2}; IC_viewcount_www.streetinsider.com=7; __gads=ID=e2a0e1812b69faf9:T=1560728348:RT=1560728530:S=ALNI_MZcTKK2X6XHyFYh1221Fja_BcAFgg; __idcontext=eyJjb29raWVJRCI6IlVKNFJHTEc2UENDV0o2UlNWWTVVQkdaQkk1NDVERDNGQUZRWFVVQU4yVUNBPT09PSIsImRldmljZUlEIjoiVUo0UkdMRzZQRERHSlpZRFY1RVdaR0xFT0pZWkRNMklIUk9XRVVZT1ZZS1E9PT09IiwiaXYiOiIzMzU3V0ZPUFNHQksyMkhRUU1NMlBDREJMTT09PT09PSIsInYiOjF9; fi_utm=www.google.com%7Corganic%7C%7C%7C%7C; fitracking_12=no; bounceClientVisit2938v=N4IgNgDiBcIBYBcEQM4FIDMBBNAmAYnvgO6kB0KCATgKY0ICWAdigwCY1VkDGA9gLZEa3APo0AhlSbMA5ijIQ4ETPgCOmACIA3EABoQVGCFLEyM3rxlgaPASAC+QA; __qca=P0-1568873715-1560728349361; cto_lwid=1a0a395c-6972-4b7c-9da5-a441127c525d; D_SID=67.164.106.213:Skej23yTS0HaLnNOKrJhBs7cQ4NcmeyCWV8XholjFTA; PHPSESSID=iotqo1pdlrcejq93beh4fqq2a2'\n",
    "user_agent = 'Mozilla/5.0 (Macintosh; Intel Mac OS X 10_14_5) AppleWebKit/605.1.15 (KHTML, like Gecko) Version/12.1.1 Safari/605.1.15'\n",
    "referer = 'https://www.google.com/'\n",
    "headers = {\n",
    "    'User-Agent': user_agent,\n",
    "    'Referer': referer,\n",
    "    'Cookie': cookie,\n",
    "}"
   ]
  },
  {
   "cell_type": "code",
   "execution_count": 4,
   "metadata": {},
   "outputs": [],
   "source": [
    "r = requests.get(url, headers=headers)"
   ]
  },
  {
   "cell_type": "code",
   "execution_count": 5,
   "metadata": {},
   "outputs": [
    {
     "data": {
      "text/plain": [
       "200"
      ]
     },
     "execution_count": 5,
     "metadata": {},
     "output_type": "execute_result"
    }
   ],
   "source": [
    "r.status_code"
   ]
  },
  {
   "cell_type": "code",
   "execution_count": null,
   "metadata": {},
   "outputs": [],
   "source": [
    "page = r.text\n",
    "soup = BeautifulSoup(page, 'lxml')\n",
    "\n",
    "tables = soup.find_all('table', {'class': 'earning_history'})\n",
    "\n",
    "data = []\n",
    "for table in tables:\n",
    "    rows = table.find_all('tr', {'class': 'is_hilite'})\n",
    "    for row in rows:\n",
    "        cells = row.find_all('td')\n",
    "        row_text = [cell.text for cell in cells]\n",
    "        data.append(row_text)\n",
    "df = pd.DataFrame(data)"
   ]
  },
  {
   "cell_type": "code",
   "execution_count": null,
   "metadata": {},
   "outputs": [],
   "source": [
    "cols = [1, 8, 9, 10, 11]\n",
    "df = df.drop(cols, axis=1)\n",
    "\n",
    "renamed_cols = {\n",
    "    0: 'DATE',\n",
    "    2: 'QTR',\n",
    "    3: 'EPS',\n",
    "    4: 'EPS_CONSENSUS',\n",
    "    5: 'SURPRISE',\n",
    "    6: 'REVENUE',\n",
    "    7: 'REVENUE_CONSENSUS',\n",
    "}\n",
    "df = df.rename(index=str, columns=renamed_cols)\n",
    "\n",
    "df['DATE'] = pd.to_datetime(df['DATE'])"
   ]
  },
  {
   "cell_type": "code",
   "execution_count": null,
   "metadata": {},
   "outputs": [],
   "source": [
    "def strip_dollar_sign(amount):\n",
    "    "
   ]
  },
  {
   "cell_type": "code",
   "execution_count": null,
   "metadata": {},
   "outputs": [],
   "source": [
    "df.sort_values('DATE', ascending=False)"
   ]
  },
  {
   "cell_type": "code",
   "execution_count": null,
   "metadata": {},
   "outputs": [],
   "source": []
  }
 ],
 "metadata": {
  "kernelspec": {
   "display_name": "Python 3",
   "language": "python",
   "name": "python3"
  },
  "language_info": {
   "codemirror_mode": {
    "name": "ipython",
    "version": 3
   },
   "file_extension": ".py",
   "mimetype": "text/x-python",
   "name": "python",
   "nbconvert_exporter": "python",
   "pygments_lexer": "ipython3",
   "version": "3.7.0"
  }
 },
 "nbformat": 4,
 "nbformat_minor": 2
}
